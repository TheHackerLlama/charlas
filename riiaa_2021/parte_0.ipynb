{
  "nbformat": 4,
  "nbformat_minor": 0,
  "metadata": {
    "colab": {
      "name": "parte_0.ipynb",
      "private_outputs": true,
      "provenance": [],
      "collapsed_sections": [],
      "authorship_tag": "ABX9TyPb24rIzrwdx0UZFsq4Y7D2",
      "include_colab_link": true
    },
    "kernelspec": {
      "name": "python3",
      "display_name": "Python 3"
    },
    "language_info": {
      "name": "python"
    }
  },
  "cells": [
    {
      "cell_type": "markdown",
      "metadata": {
        "id": "view-in-github",
        "colab_type": "text"
      },
      "source": [
        "<a href=\"https://colab.research.google.com/github/TheHackerLlama/charlas/blob/main/riiaa_2021/parte_0.ipynb\" target=\"_parent\"><img src=\"https://colab.research.google.com/assets/colab-badge.svg\" alt=\"Open In Colab\"/></a>"
      ]
    },
    {
      "cell_type": "code",
      "metadata": {
        "id": "wFUOXe8JWSCG"
      },
      "source": [
        "%%capture\n",
        "!pip install sentencepiece\n",
        "!pip install transformers"
      ],
      "execution_count": null,
      "outputs": []
    },
    {
      "cell_type": "markdown",
      "metadata": {
        "id": "VTmzerhhXRlM"
      },
      "source": [
        "## Análisis de sentimiento"
      ]
    },
    {
      "cell_type": "code",
      "metadata": {
        "id": "6oXX9puQWznJ"
      },
      "source": [
        "from transformers import pipeline\n",
        "\n",
        "classifier = pipeline(\"sentiment-analysis\")\n",
        "text = \"I'm very happy to be in this workshop\"\n",
        "classifier(text)"
      ],
      "execution_count": null,
      "outputs": []
    },
    {
      "cell_type": "code",
      "metadata": {
        "id": "sXG2sW7jW7cx"
      },
      "source": [
        "import pandas as pd\n",
        "\n",
        "outputs = classifier(text)\n",
        "pd.DataFrame.from_records(outputs)"
      ],
      "execution_count": null,
      "outputs": []
    },
    {
      "cell_type": "code",
      "metadata": {
        "id": "rMzMzH_4XjO4"
      },
      "source": [
        "examples = [\"I'm very happy to be in this workshop\", \"I'm bored and want to sleep\"]\n",
        "outputs = classifier(examples)\n",
        "pd.DataFrame.from_records(outputs)"
      ],
      "execution_count": null,
      "outputs": []
    },
    {
      "cell_type": "code",
      "metadata": {
        "id": "0YpKZTRYXFk6"
      },
      "source": [
        "text = \"\"\"Dear Amazon, last week I ordered an Optimus Prime action figure \\\n",
        "from your online store in Germany. Unfortunately, when I opened the package, \\\n",
        "I discovered to my horror that I had been sent an action figure of Megatron \\\n",
        "instead! As a lifelong enemy of the Decepticons, I hope you can understand my \\\n",
        "dilemma. To resolve the issue, I demand an exchange of Megatron for the \\\n",
        "Optimus Prime figure I ordered. Enclosed are copies of my records concerning \\\n",
        "this purchase. I expect to hear from you soon. Sincerely, Bumblebee.\"\"\""
      ],
      "execution_count": null,
      "outputs": []
    },
    {
      "cell_type": "code",
      "metadata": {
        "id": "SAHNMvs4XWsT"
      },
      "source": [
        "outputs = classifier(text)\n",
        "pd.DataFrame.from_records(outputs)"
      ],
      "execution_count": null,
      "outputs": []
    },
    {
      "cell_type": "markdown",
      "metadata": {
        "id": "ln3wgQyyXrkC"
      },
      "source": [
        "## Reconocimiento de Entidades Nombradas (Named Entity Recognition)"
      ]
    },
    {
      "cell_type": "code",
      "metadata": {
        "id": "ErERQ2RIXW4b"
      },
      "source": [
        "ner_tagger = pipeline(\"ner\", aggregation_strategy=\"simple\")\n",
        "outputs = ner_tagger(text)\n",
        "pd.DataFrame.from_records(outputs)"
      ],
      "execution_count": null,
      "outputs": []
    },
    {
      "cell_type": "markdown",
      "metadata": {
        "id": "y8R9VJEXbIml"
      },
      "source": [
        "## Responder Preguntas - Question Answering"
      ]
    },
    {
      "cell_type": "code",
      "metadata": {
        "id": "fauLsn_bbWAk"
      },
      "source": [
        "question_answerer = pipeline(\"question-answering\")\n",
        "question_answerer(\n",
        "    question=\"Where do I work?\",\n",
        "    context=\"My name is Omar and I work at Hugging Face in Zurich\"\n",
        ")"
      ],
      "execution_count": null,
      "outputs": []
    },
    {
      "cell_type": "code",
      "metadata": {
        "id": "3Q4mnHt3YLNu"
      },
      "source": [
        "question = \"What does the customer want?\"\n",
        "outputs = question_answerer(question=question, context=text)\n",
        "pd.DataFrame.from_records([outputs])"
      ],
      "execution_count": null,
      "outputs": []
    },
    {
      "cell_type": "markdown",
      "metadata": {
        "id": "0bNWkegUbpHP"
      },
      "source": [
        "## Análisis de Sentimiento en Español\n",
        "\n",
        "Podemos buscar modelos en https://huggingface.co/models?language=es&pipeline_tag=text-classification&sort=downloads"
      ]
    },
    {
      "cell_type": "code",
      "metadata": {
        "id": "oSIQfmcmb6gp"
      },
      "source": [
        "classifier = pipeline(\"sentiment-analysis\", model=\"daveni/twitter-xlm-roberta-emotion-es\")\n",
        "pd.DataFrame.from_records(classifier(\"Hoy estoy muy feliz \"))"
      ],
      "execution_count": null,
      "outputs": []
    },
    {
      "cell_type": "code",
      "metadata": {
        "id": "P6j2lnMRcbjv"
      },
      "source": [
        "pd.DataFrame.from_records(classifier([\"Hoy estoy muy feliz\", \"Estoy feliz\", \"Creo que el diseño está algo viejo\"]))"
      ],
      "execution_count": null,
      "outputs": []
    },
    {
      "cell_type": "markdown",
      "metadata": {
        "id": "PYT40LO0zF2i"
      },
      "source": [
        "# Traducción"
      ]
    },
    {
      "cell_type": "code",
      "metadata": {
        "id": "ZYaP4LsMzJol"
      },
      "source": [
        "translator = pipeline(\"translation_en_to_es\", \n",
        "                      model=\"Helsinki-NLP/opus-mt-en-es\")\n",
        "translated_output = translator(text, min_length=100)[0][\"translation_text\"]\n",
        "print(translated_output)"
      ],
      "execution_count": null,
      "outputs": []
    },
    {
      "cell_type": "markdown",
      "metadata": {
        "id": "Fwgw839Obb7I"
      },
      "source": [
        "## Resumir / Summarization"
      ]
    },
    {
      "cell_type": "code",
      "metadata": {
        "id": "cOFrIv3bbN52"
      },
      "source": [
        "summarizer = pipeline(\"summarization\")\n",
        "outputs = summarizer(text, max_length=45, clean_up_tokenization_spaces=True)\n",
        "print(outputs[0]['summary_text'])"
      ],
      "execution_count": null,
      "outputs": []
    },
    {
      "cell_type": "markdown",
      "metadata": {
        "id": "VLDJcuyF0gTS"
      },
      "source": [
        "## Generación de texto"
      ]
    },
    {
      "cell_type": "code",
      "metadata": {
        "id": "lprQCZtON5gq"
      },
      "source": [
        "response = \"Dear Bumblebee, I am sorry to hear that your order was mixed up.\"\n",
        "prompt = text + \"\\n\\nCustomer service response:\\n\" + response\n",
        "print(prompt)"
      ],
      "execution_count": null,
      "outputs": []
    },
    {
      "cell_type": "code",
      "metadata": {
        "id": "XqPno6aDx5Pn"
      },
      "source": [
        "from transformers import set_seed\n",
        "set_seed(42)\n",
        "\n",
        "generator = pipeline(\"text-generation\")\n",
        "outputs = generator(prompt, max_length=200)\n",
        "print(outputs[0]['generated_text'])"
      ],
      "execution_count": null,
      "outputs": []
    },
    {
      "cell_type": "code",
      "metadata": {
        "id": "3GfhNny00vBE"
      },
      "source": [
        "generator = pipeline(\"text-generation\", model=\"datificate/gpt2-small-spanish\")\n",
        "response = \"Querido Bumblebee, lamento escuchar que tu órden no fue la correcta.\"\n",
        "prompt = translated_output + \"\\n\\nRespuesta servicio al cliente:\\n\" + response\n",
        "outputs = generator(prompt, max_length=400)\n",
        "print(outputs[0]['generated_text'])"
      ],
      "execution_count": null,
      "outputs": []
    },
    {
      "cell_type": "markdown",
      "metadata": {
        "id": "zHxmKOoyD06W"
      },
      "source": [
        "## Sesgos en el modelo"
      ]
    },
    {
      "cell_type": "code",
      "metadata": {
        "id": "PG1A-izR1Jpz"
      },
      "source": [
        "unmasker = pipeline(\"fill-mask\", model=\"bert-base-uncased\")\n",
        "result = unmasker(\"This man works as a [MASK].\")\n",
        "print([r[\"token_str\"] for r in result])\n",
        "\n",
        "result = unmasker(\"This woman works as a [MASK].\")\n",
        "print([r[\"token_str\"] for r in result])"
      ],
      "execution_count": null,
      "outputs": []
    },
    {
      "cell_type": "code",
      "metadata": {
        "id": "2mdtKY9UD3eo"
      },
      "source": [
        ""
      ],
      "execution_count": null,
      "outputs": []
    }
  ]
}
